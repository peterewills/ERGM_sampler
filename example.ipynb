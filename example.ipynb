{
 "cells": [
  {
   "cell_type": "markdown",
   "metadata": {},
   "source": [
    "# ERGM Gibbs Sampler Example\n",
    "\n",
    "Let's start on a graph with 3 vertices, and use a single graph metric, $g(G) = |E|$, where $|E|$ is the volume of the graph. We will set $\\theta=1$ (Only the sign of $\\theta$ matters when we only have one metric).\n",
    "\n",
    "We can then work out all 8 possible graphs along with their volumes, and make sure our sampler is giving them to us with the correct probabilities. In particular, we have one graph with zero volume $G_0$, three graphs with volume 1, $G_1$ through $G_3$, three graphs with volume 2 $G_4$ through $G_6$ and one graph with volume 3 $G_7$. Then, \n",
    "\n",
    "$$ Z = 1 + 3 e + 3 e^2 + e^3$$\n",
    "\n",
    "and\n",
    "\n",
    "$$ P(G) = \\frac{1}{Z} e^{|E|}$$\n",
    "\n",
    "Let's calculate what these values should be."
   ]
  },
  {
   "cell_type": "code",
   "execution_count": 1,
   "metadata": {
    "collapsed": false
   },
   "outputs": [],
   "source": [
    "from ERGM_sampler import ERGM_sampler"
   ]
  },
  {
   "cell_type": "code",
   "execution_count": 2,
   "metadata": {
    "collapsed": false
   },
   "outputs": [
    {
     "name": "stdout",
     "output_type": "stream",
     "text": [
      "[ 0.0194524   0.15863128  0.43120452  0.3907118 ]\n"
     ]
    }
   ],
   "source": [
    "Z = np.exp(0) + 3*np.exp(1) + 3*np.exp(2) + np.exp(3)\n",
    "probs_theory = Z**(-1) * np.array([np.exp(0), 3*np.exp(1), 3*np.exp(2), np.exp(3)])\n",
    "print(probs_theory)"
   ]
  },
  {
   "cell_type": "markdown",
   "metadata": {},
   "source": [
    "Another benefit of this toy problem is that the Hasting ratio is trivially easy to calculate. If an edge is present, then flipping it changes the volume by -1, and if it is absent, the volume changes by +1. Thus, our function should give $\\Delta g = \\pm 1$ depending on whether $G_{ij}=1$ or $0$."
   ]
  },
  {
   "cell_type": "code",
   "execution_count": 3,
   "metadata": {
    "collapsed": true
   },
   "outputs": [],
   "source": [
    "def vol_fun(A,i,j):\n",
    "    if A[i,j] == 0:\n",
    "        return 1\n",
    "    else:\n",
    "        return -1\n",
    "    \n",
    "thetas = [1]\n",
    "dg_funs = [vol_fun]\n",
    "A0 = np.zeros((3,3))\n",
    "K = 100000"
   ]
  },
  {
   "cell_type": "code",
   "execution_count": 5,
   "metadata": {
    "collapsed": false
   },
   "outputs": [
    {
     "data": {
      "text/plain": [
       "90000"
      ]
     },
     "execution_count": 5,
     "metadata": {},
     "output_type": "execute_result"
    }
   ],
   "source": [
    "A_list = ERGM_sampler(dg_funs,thetas,A0,K=K)\n",
    "vols = list(map(lambda x: np.sum(x)/2,A_list))\n",
    "len(vols)"
   ]
  },
  {
   "cell_type": "markdown",
   "metadata": {},
   "source": [
    "We check that we get the number of samples we expect. Now we'll calculate the volume. Since the matrix is symmetric (graph is undirected), we divide the sum by two to get the volume."
   ]
  },
  {
   "cell_type": "code",
   "execution_count": 6,
   "metadata": {
    "collapsed": false
   },
   "outputs": [
    {
     "name": "stdout",
     "output_type": "stream",
     "text": [
      "[ 0.01932222  0.15868889  0.43305556  0.38893333]\n"
     ]
    }
   ],
   "source": [
    "probs,_ = np.histogram(vols,bins=-1/2+np.arange(5),normed=True)\n",
    "print(probs)"
   ]
  },
  {
   "cell_type": "markdown",
   "metadata": {},
   "source": [
    "Our probabilities are very close to what they should be according to our theory."
   ]
  }
 ],
 "metadata": {
  "anaconda-cloud": {},
  "kernelspec": {
   "display_name": "Python [default]",
   "language": "python",
   "name": "python3"
  },
  "language_info": {
   "codemirror_mode": {
    "name": "ipython",
    "version": 3
   },
   "file_extension": ".py",
   "mimetype": "text/x-python",
   "name": "python",
   "nbconvert_exporter": "python",
   "pygments_lexer": "ipython3",
   "version": "3.5.2"
  }
 },
 "nbformat": 4,
 "nbformat_minor": 2
}
